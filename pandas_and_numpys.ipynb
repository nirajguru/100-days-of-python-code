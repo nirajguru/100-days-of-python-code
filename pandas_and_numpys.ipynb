{
  "nbformat": 4,
  "nbformat_minor": 0,
  "metadata": {
    "colab": {
      "provenance": [],
      "authorship_tag": "ABX9TyM4Dki9WYsBWI//Xv79F/wB",
      "include_colab_link": true
    },
    "kernelspec": {
      "name": "python3",
      "display_name": "Python 3"
    },
    "language_info": {
      "name": "python"
    }
  },
  "cells": [
    {
      "cell_type": "markdown",
      "metadata": {
        "id": "view-in-github",
        "colab_type": "text"
      },
      "source": [
        "<a href=\"https://colab.research.google.com/github/nirajguru/100-days-of-python-code/blob/main/pandas_and_numpys.ipynb\" target=\"_parent\"><img src=\"https://colab.research.google.com/assets/colab-badge.svg\" alt=\"Open In Colab\"/></a>"
      ]
    },
    {
      "cell_type": "code",
      "execution_count": null,
      "metadata": {
        "id": "jv4uUuWzSVA1"
      },
      "outputs": [],
      "source": []
    },
    {
      "cell_type": "markdown",
      "source": [
        "# Pandas and Numpys practice"
      ],
      "metadata": {
        "id": "zCVbeKZ_SbTh"
      }
    },
    {
      "cell_type": "code",
      "source": [
        "import pandas as pd\n",
        "import numpy as np"
      ],
      "metadata": {
        "id": "grG2mx-OSfHk"
      },
      "execution_count": 1,
      "outputs": []
    },
    {
      "cell_type": "code",
      "source": [
        "my_list = [\"google\",\n",
        "           \"aws\",\n",
        "           \"azure\"]\n",
        "my_array = np.array(my_list)\n",
        "print(my_array)\n",
        "print(type(my_array))"
      ],
      "metadata": {
        "colab": {
          "base_uri": "https://localhost:8080/"
        },
        "id": "nlzYWoQjSjex",
        "outputId": "b4f47b3f-e99e-42f4-e0ff-c079325d194b"
      },
      "execution_count": 4,
      "outputs": [
        {
          "output_type": "stream",
          "name": "stdout",
          "text": [
            "['google' 'aws' 'azure']\n",
            "<class 'numpy.ndarray'>\n"
          ]
        }
      ]
    }
  ]
}