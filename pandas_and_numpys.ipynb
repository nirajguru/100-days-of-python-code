{
  "nbformat": 4,
  "nbformat_minor": 0,
  "metadata": {
    "colab": {
      "provenance": [],
      "authorship_tag": "ABX9TyPo1+BVHbnmxuvMtkTPHjf8",
      "include_colab_link": true
    },
    "kernelspec": {
      "name": "python3",
      "display_name": "Python 3"
    },
    "language_info": {
      "name": "python"
    }
  },
  "cells": [
    {
      "cell_type": "markdown",
      "metadata": {
        "id": "view-in-github",
        "colab_type": "text"
      },
      "source": [
        "<a href=\"https://colab.research.google.com/github/nirajguru/100-days-of-python-code/blob/main/pandas_and_numpys.ipynb\" target=\"_parent\"><img src=\"https://colab.research.google.com/assets/colab-badge.svg\" alt=\"Open In Colab\"/></a>"
      ]
    },
    {
      "cell_type": "code",
      "execution_count": null,
      "metadata": {
        "id": "jv4uUuWzSVA1"
      },
      "outputs": [],
      "source": []
    },
    {
      "cell_type": "markdown",
      "source": [
        "# Pandas and Numpys practice"
      ],
      "metadata": {
        "id": "zCVbeKZ_SbTh"
      }
    },
    {
      "cell_type": "code",
      "source": [
        "import pandas as pd\n",
        "import numpy as np"
      ],
      "metadata": {
        "id": "grG2mx-OSfHk"
      },
      "execution_count": 1,
      "outputs": []
    },
    {
      "cell_type": "code",
      "source": [
        "my_list = [\"google\",\n",
        "           \"aws\",\n",
        "           \"azure\"]\n",
        "my_array = np.array(my_list)\n",
        "print(my_array)\n",
        "print(type(my_array))"
      ],
      "metadata": {
        "colab": {
          "base_uri": "https://localhost:8080/"
        },
        "id": "nlzYWoQjSjex",
        "outputId": "b4f47b3f-e99e-42f4-e0ff-c079325d194b"
      },
      "execution_count": 4,
      "outputs": [
        {
          "output_type": "stream",
          "name": "stdout",
          "text": [
            "['google' 'aws' 'azure']\n",
            "<class 'numpy.ndarray'>\n"
          ]
        }
      ]
    },
    {
      "cell_type": "code",
      "source": [
        "# There is a series of readings [7, 4, 5, 6, 6, 4, 65, 34, 44]. Alert  the user if last 3 readings are greater than the average\n",
        "\n",
        "my_readings = [7, 4, 5, 6, 6, 4, 65, 34, 44, 4]\n",
        "my_readings_array = np.array(my_readings)\n",
        "\n",
        "# Take the average of the readings\n",
        "average_reading = my_readings_array.mean()\n",
        "\n",
        "def alert_user():\n",
        "  if my_readings_array[-1] > average_reading:\n",
        "    return True\n",
        "\n",
        "print(alert_user())\n"
      ],
      "metadata": {
        "colab": {
          "base_uri": "https://localhost:8080/"
        },
        "id": "J6EoCTH5UM8s",
        "outputId": "5bfa54ac-b512-4406-a4d3-d623aff33872"
      },
      "execution_count": 10,
      "outputs": [
        {
          "output_type": "stream",
          "name": "stdout",
          "text": [
            "None\n"
          ]
        }
      ]
    }
  ]
}